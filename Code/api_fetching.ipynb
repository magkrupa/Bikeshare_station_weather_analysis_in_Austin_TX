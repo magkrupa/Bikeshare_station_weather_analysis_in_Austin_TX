{
 "cells": [
  {
   "cell_type": "markdown",
   "id": "3171deca",
   "metadata": {},
   "source": [
    "# Import of Historical Data\n",
    "This notebook contains code that allows us to obtain historical data on weather conditions in Austin Texas from Visual Crossing (www.visualcrossing.com) website period between 01-01-2014 to 31-12-2022. To obtain the historical data on weather conditions we used API fetching. <br> <br>\n",
    "Since there is a limited amount of data per day that one can fetch through API from the Visual Crossing website, we downloaded weather data partially every day:\n",
    "\n",
    "1. Obtain historical data on weather conditions in Austin Texas **from 01-01-2014 to 31-12-2015**\n",
    "2. Obtain historical data on weather conditions in Austin Texas **from 01-01-2016 to 31-12-2017**\n",
    "3. Obtain historical data on weather conditions in Austin Texas **from 01-01-2018 to 31-12-2019**\n",
    "4. Obtain historical data on weather conditions in Austin Texas **from 01-01-2020 to 31-12-2021**\n",
    "5. Obtain historical data on weather conditions in Austin Texas **from 01-01-2022 to 31-12-2022**"
   ]
  },
  {
   "cell_type": "markdown",
   "id": "a3de7136",
   "metadata": {},
   "source": [
    "### Import the function getWeatherData"
   ]
  },
  {
   "cell_type": "code",
   "execution_count": 2,
   "id": "efcb591a",
   "metadata": {},
   "outputs": [],
   "source": [
    "from apiFetchingFunction import getWeatherData"
   ]
  },
  {
   "cell_type": "markdown",
   "id": "8df9bb43",
   "metadata": {},
   "source": [
    "### Obtain historical data on weather conditions in Austin Texas from 01-01-2014 to 31-12-2015"
   ]
  },
  {
   "cell_type": "code",
   "execution_count": null,
   "id": "dfa11e06",
   "metadata": {},
   "outputs": [],
   "source": [
    "your_api_key = \"XXXX\"\n",
    "getWeatherData(2014, 2015, your_api_key)"
   ]
  },
  {
   "cell_type": "markdown",
   "id": "8ca4c1d0",
   "metadata": {},
   "source": [
    "### Obtain historical data on weather conditions in Austin Texas from 01-01-2016 to 31-12-2017"
   ]
  },
  {
   "cell_type": "code",
   "execution_count": null,
   "id": "6ba6ffb4",
   "metadata": {},
   "outputs": [],
   "source": [
    "your_api_key = \"XXXX\"\n",
    "getWeatherData(2016, 2017, your_api_key)"
   ]
  },
  {
   "cell_type": "markdown",
   "id": "b45ab1a8",
   "metadata": {},
   "source": [
    "### Obtain historical data on weather conditions in Austin Texas from 01-01-2018 to 31-12-2019"
   ]
  },
  {
   "cell_type": "code",
   "execution_count": 3,
   "id": "d8fded3d",
   "metadata": {},
   "outputs": [
    {
     "name": "stdout",
     "output_type": "stream",
     "text": [
      "Your request has succeeded!\n",
      "Weather data cannot be obtained now, please check your API key or try later.\n"
     ]
    }
   ],
   "source": [
    "your_api_key = \"XXXX\"\n",
    "getWeatherData(2018, 2019, your_api_key)"
   ]
  },
  {
   "cell_type": "markdown",
   "id": "05f23672",
   "metadata": {},
   "source": [
    "### Obtain historical data on weather conditions in Austin Texas from 01-01-2020 to 31-12-2021"
   ]
  },
  {
   "cell_type": "code",
   "execution_count": null,
   "id": "e4c3d9df",
   "metadata": {},
   "outputs": [],
   "source": [
    "your_api_key = \"XXXX\"\n",
    "getWeatherData(2020, 2021, your_api_key)"
   ]
  },
  {
   "cell_type": "markdown",
   "id": "f2c3922a",
   "metadata": {},
   "source": [
    "### Obtain historical data on weather conditions in Austin Texas from 01-01-2022 to 31-12-2022"
   ]
  },
  {
   "cell_type": "code",
   "execution_count": null,
   "id": "5bcb2620",
   "metadata": {},
   "outputs": [],
   "source": [
    "your_api_key = \"XXXX\"\n",
    "getWeatherData(2022, 2022, your_api_key)"
   ]
  }
 ],
 "metadata": {
  "kernelspec": {
   "display_name": "Python 3 (ipykernel)",
   "language": "python",
   "name": "python3"
  },
  "language_info": {
   "codemirror_mode": {
    "name": "ipython",
    "version": 3
   },
   "file_extension": ".py",
   "mimetype": "text/x-python",
   "name": "python",
   "nbconvert_exporter": "python",
   "pygments_lexer": "ipython3",
   "version": "3.10.11"
  }
 },
 "nbformat": 4,
 "nbformat_minor": 5
}
