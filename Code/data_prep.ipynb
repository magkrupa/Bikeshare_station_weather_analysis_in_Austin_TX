{
 "cells": [
  {
   "cell_type": "markdown",
   "metadata": {
    "id": "GPVappHMRit4"
   },
   "source": [
    "# Data preprocessing\n",
    "This notebook contains code to clean and standartise datasets used for the analysis."
   ]
  },
  {
   "cell_type": "markdown",
   "metadata": {
    "id": "2VmUOyPDEv7-"
   },
   "source": [
    "### Importing Libraries:"
   ]
  },
  {
   "cell_type": "code",
   "execution_count": 1,
   "metadata": {
    "id": "l4u5J5Cfvl56"
   },
   "outputs": [],
   "source": [
    "# data processing\n",
    "import pandas as pd\n",
    "import numpy as np\n",
    "from datetime import datetime\n",
    "\n",
    "# data visualisation\n",
    "import seaborn as sns\n",
    "import matplotlib.pyplot as plt\n",
    "import folium\n",
    "\n",
    "# get geographical data\n",
    "from geopy.geocoders import ArcGIS\n",
    "\n",
    "# to interact with operating system to save files\n",
    "import os\n",
    "from os.path import dirname\n",
    "\n",
    "# custom function\n",
    "from standardiseSubscriptions import rename_subs # will work in jupyter notebook \n",
    "\n",
    "# Ignoring warning\n",
    "import logging\n",
    "import requests\n",
    "import warnings\n",
    "warnings.filterwarnings(\"ignore\")\n",
    "logging.getLogger(requests.packages.urllib3.__package__).setLevel(logging.ERROR)"
   ]
  },
  {
   "cell_type": "markdown",
   "metadata": {
    "id": "f_2TIY4Kvl58"
   },
   "source": [
    "## Importing datasets:\n",
    "1) stations_df: Containing all information on bike share stations  \n",
    "2) trips_df: Containing all information on bike trips taken from December 2013 - March 2023  \n",
    "3) weather_df: Containing all information on weather in Austin  "
   ]
  },
  {
   "cell_type": "code",
   "execution_count": 2,
   "metadata": {
    "id": "frj0aMGziSqq"
   },
   "outputs": [],
   "source": [
    "# Loading the datasets\n",
    "stations_df = pd.read_csv(\"../Data/bikeshare_stations.csv\")\n",
    "trips_df = pd.read_csv(\"../Data/bikeshare_trips.csv\", parse_dates=[\"start_time\"], low_memory=False)\n",
    "\n",
    "# List of CSV file names\n",
    "files = ['../Data/Austin_TX_2014-01-01_to_2015-12-31.csv', \n",
    "         '../Data/Austin_TX_2016-01-01_to_2017-12-31.csv', \n",
    "         '../Data/Austin_TX_2018-01-01_to_2019-12-31.csv', \n",
    "         '../Data/Austin_TX_2020-01-01_to_2021-12-31.csv', \n",
    "         '../Data/Austin_TX_2022-01-01_to_2022-12-31.csv']\n",
    "\n",
    "# Create a list to hold dataframes\n",
    "dfs = []\n",
    "\n",
    "# Read each CSV file and append it to the list\n",
    "for file in files:\n",
    "    dfs.append(pd.read_csv(file))\n",
    "\n",
    "# Concatenate all dataframes into one\n",
    "combined_df = pd.concat(dfs, ignore_index=True)\n",
    "\n",
    "# Write the combined dataframe to a new CSV file on Windows\n",
    "curr_dir = os.getcwd()\n",
    "# parent_folder = dirname(curr_dir) \n",
    "# if os.path.exists(parent_folder + \"\\\\Data\"):\n",
    "#     combined_df.to_csv(parent_folder + '\\\\Data\\\\combined_weather.csv', index=False)\n",
    "# else:\n",
    "#     os.mkdir(parent_folder + \"\\\\Data\")\n",
    "#     combined_df.to_csv(parent_folder + \"\\\\Data\\\\combined_weather.csv\", index=False)\n",
    "    \n",
    "# Write the combined dataframe to a new CSV file on Mac/Linux\n",
    "curr_dir = os.getcwd()\n",
    "parent_folder = dirname(curr_dir) \n",
    "if os.path.exists(parent_folder + \"/Data\"):\n",
    "    combined_df.to_csv(parent_folder + '/Data/combined_weather.csv', index=False)\n",
    "else:\n",
    "    os.mkdir(parent_folder + \"/Data\")\n",
    "    combined_df.to_csv(parent_folder + \"/Data/combined_weather.csv\", index=False)\n",
    "\n",
    "weather_df = pd.read_csv(\"../Data/combined_weather.csv\")\n"
   ]
  },
  {
   "cell_type": "markdown",
   "metadata": {
    "id": "23R3YLVzvl6A"
   },
   "source": [
    "# Cleaning Data\n",
    "- Rename column names  \n",
    "- Pre-processing of string data types  \n",
    "- Find geographical coordinates of the bike stations  \n",
    "- Handle missing/ null values  \n",
    "- Process datetime columns\n",
    "- Imputing Missing\n",
    "- Check validity of station_id\n",
    "- Exclude incomplete boundary years \n",
    "- Fulfill the incomplete years\n"
   ]
  },
  {
   "cell_type": "markdown",
   "metadata": {
    "id": "35ZMi45Sv5FX"
   },
   "source": [
    "### Rename column names"
   ]
  },
  {
   "cell_type": "code",
   "execution_count": 3,
   "metadata": {
    "id": "hRaRjzWgvl6B"
   },
   "outputs": [],
   "source": [
    "#Rename column name for dataset trip, set it to Title and inplace = True\n",
    "trips_df = trips_df.rename(columns={'bikeid':'bike_id'}).rename(columns=str.lower)\n",
    "\n",
    "#Rename column name for dataset trip, set it to Title and inplace = True\n",
    "stations_df = stations_df.rename(columns={'name':'station_name'}).rename(columns=str.lower)"
   ]
  },
  {
   "cell_type": "markdown",
   "metadata": {
    "id": "zTBansXwvl6C"
   },
   "source": [
    "### Pre-processing of string data types:\n",
    "- Removal of leading and trailing whitespaces\n",
    "- Removal of punctuaton in address column\n",
    "- Standardisation of address, for eg \"St\" vs \"Street\", \"E\" vs \"East\"\n",
    "- Some entries are not actually addresses\n",
    "- Standartising \"subscriber_type\" column values"
   ]
  },
  {
   "cell_type": "code",
   "execution_count": 4,
   "metadata": {
    "id": "6Crkramlvl6C"
   },
   "outputs": [],
   "source": [
    "# remove trailing and leading whitespaces\n",
    "strip_spaces = lambda x: x.str.strip()\n",
    "stations_df[['station_name', 'status','address','notes']] = stations_df[['station_name', 'status','address','notes']].apply(strip_spaces)\n",
    "\n",
    "# remove punctuation in address column\n",
    "stations_df['address'] = stations_df['address'].str.replace('.', '', regex=True)\n",
    "\n",
    "# Fill null values in address column with bike station name\n",
    "stations_df[\"address\"] = stations_df[\"address\"].fillna(stations_df[\"station_name\"])\n",
    "\n",
    "# Find rows where address is incorrect and replace with bike station name\n",
    "stations_df.loc[stations_df['address'].str.contains('Presented'), 'address'] = stations_df['station_name']\n",
    "\n",
    "# Standardise address, for eg. \"Road\" is replaced by \"Rd\" \n",
    "\n",
    "words_dict = {'Street' : 'St', 'Avenue' : 'Ave', 'Road':'Rd', \n",
    "              'Drive': 'Dr', 'Boulevard' : 'Blvd', 'North' : 'N', \n",
    "              'South' : 'S', 'East' : 'E', 'West': 'W'}\n",
    "\n",
    "# get(key, value)\n",
    "stations_df['address'] = stations_df['address'].apply(lambda x: ' '.join([words_dict.get(i, i) for i in x.split()]))\n",
    "\n",
    "# Make sure the values in \"subscriber_type\" column are of string type\n",
    "trips_df['subscriber_type'] = trips_df['subscriber_type'].astype(str)\n",
    "\n",
    "# Standardise subscriptions\n",
    "trips_df['subscriber_type'] = trips_df['subscriber_type'].apply(rename_subs) "
   ]
  },
  {
   "cell_type": "markdown",
   "metadata": {
    "id": "ulgN6Ptivl6D"
   },
   "source": [
    "### Find geographical coordinates of the bike stations\n",
    "Using ArcGIS, a web-based mapping software, we can input the given address of the bike stations from the dataset and get the full address, longtitude and latitude.  \n",
    "With this information, we can create visuals to see location of bike stations and journeys taken by bike riders.  \n",
    "\n",
    "We will create three new columns:\n",
    "- full_adresss\n",
    "- longitude\n",
    "- latitude\n",
    "\n",
    "Not all the addresses generated were accurate so these had to be changed manually."
   ]
  },
  {
   "cell_type": "code",
   "execution_count": 5,
   "metadata": {
    "id": "FQFpmVe_vl6E"
   },
   "outputs": [],
   "source": [
    "#Add 'Austin Texas' to give more information\n",
    "stations_df['address'] = stations_df['address'] + ' Austin Texas' \n",
    "\n",
    "# Initiate ArcGIS\n",
    "nom = ArcGIS()\n",
    "\n",
    "# Create column that gets address, latitude and longitude\n",
    "stations_df['coordinates']=stations_df['address'].apply(nom.geocode)\n",
    "\n",
    "#extract coordinates and store it in lat and lon columns\n",
    "stations_df['full_address']=stations_df['coordinates'].apply(lambda x:x.address)\n",
    "stations_df['lat']=stations_df['coordinates'].apply(lambda x:x.latitude)\n",
    "stations_df['lon']=stations_df['coordinates'].apply(lambda x:x.longitude)\n",
    "\n",
    "# Not all rows were successfully matched, find rows where location was not found to be Austin and change manually\n",
    "# station_id 2546, 2566, 2537 are incorrect.\n",
    "\n",
    "stations_df[~stations_df['full_address'].str.contains('Austin')] \n",
    "\n",
    "# Manually change data for station_id 2546, 2566, 2537 based on long and lat on Google Maps\n",
    "stations_df.loc[stations_df['station_id'] == 2546, ['full_address', 'lat', 'lon']]  = ['1231 W Ave, Austin, Texas, 78701', 30.276460, -97.748220]\n",
    "\n",
    "stations_df.loc[stations_df['station_id'] == 2566, ['full_address', 'lat', 'lon']]  = ['W 2nd St, Austin, Texas, 78701', 30.264320, -97.744490]\n",
    "\n",
    "stations_df.loc[stations_df['station_id'] == 2537, ['full_address', 'lat', 'lon']]  = ['603 W Ave, Austin, Texas, 78701', 30.270678, -97.750389]"
   ]
  },
  {
   "cell_type": "markdown",
   "metadata": {
    "id": "WWI87CvHW44l"
   },
   "source": [
    "### Process datetime columns:\n",
    "- Add day_of_week column  \n",
    "- Add time column  \n",
    "- Add month column  \n",
    "- Add year column"
   ]
  },
  {
   "cell_type": "code",
   "execution_count": 6,
   "metadata": {
    "id": "ugM_U2qnW4is"
   },
   "outputs": [],
   "source": [
    "# Add day_of_week column\n",
    "trips_df[\"day_of_week\"] = trips_df[\"start_time\"].apply(lambda x: x.strftime('%A'))\n",
    "\n",
    "# Add time column\n",
    "trips_df[\"time\"] = trips_df[\"start_time\"].apply(lambda x: x.strftime('%H:%M:%S'))\n",
    "\n",
    "# Add month column\n",
    "trips_df[\"month\"] = trips_df[\"start_time\"].apply(lambda x: x.strftime('%b'))\n",
    "\n",
    "# Add year column to trips_df   \n",
    "trips_df[\"year\"] = trips_df[\"start_time\"].apply(lambda x: x.strftime('%Y'))"
   ]
  },
  {
   "cell_type": "markdown",
   "metadata": {
    "id": "SapZMZxHvl6G"
   },
   "source": [
    "### Handling missing/ null values"
   ]
  },
  {
   "cell_type": "code",
   "execution_count": 7,
   "metadata": {
    "colab": {
     "base_uri": "https://localhost:8080/",
     "height": 507
    },
    "id": "2drYGdTVvl6H",
    "outputId": "31b5ef17-34a1-4735-bd75-b357e18dab29"
   },
   "outputs": [
    {
     "data": {
      "image/png": "[encoded data removed]",
      "text/plain": [
       "<Figure size 1080x360 with 3 Axes>"
      ]
     },
     "metadata": {
      "needs_background": "light"
     },
     "output_type": "display_data"
    }
   ],
   "source": [
    "#Plots in a single line\n",
    "\n",
    "# Create a single plot with three subplots placed horizontally\n",
    "fig, axes = plt.subplots(1, 3, figsize=(15, 5))\n",
    "\n",
    "# Ploting the missing data in the trips dataset\n",
    "sns.histplot(data=trips_df.isna().melt(value_name=\"missing\"), y=\"variable\", hue=\"missing\", multiple=\"fill\", ax=axes[0])\n",
    "axes[0].set_title(\"Missing data in Trips dataset\")\n",
    "\n",
    "# Ploting the missing data in the stations dataset\n",
    "sns.histplot(data=stations_df.isna().melt(value_name=\"missing\"), y=\"variable\", hue=\"missing\", multiple=\"fill\", ax=axes[1])\n",
    "axes[1].set_title(\"Missing data in Stations dataset\")\n",
    "\n",
    "# Ploting the missing data in the weather dataset\n",
    "sns.histplot(data=weather_df.isna().melt(value_name=\"missing\"), y=\"variable\", hue=\"missing\", multiple=\"fill\", ax=axes[2])\n",
    "axes[2].set_title(\"Missing data in Weather dataset\")\n",
    "\n",
    "# Save the figure on Windows\n",
    "# if os.path.exists(parent_folder + \"\\\\Figures\"):\n",
    "#     plt.savefig(parent_folder + \"\\\\Figures\\\\Missing_data_in_datasets.png\")\n",
    "# else:\n",
    "#     os.mkdir(parent_folder + \"\\Figures\")\n",
    "#     plt.savefig(parent_folder + \"\\\\Figures\\\\Missing_data_in_datasets.png\")\n",
    "\n",
    "# Save the figure on Mac/Linux\n",
    "curr_dir = os.getcwd()\n",
    "parent_folder = dirname(curr_dir) \n",
    "if os.path.exists(parent_folder + \"/Figures\"):\n",
    "    plt.savefig(parent_folder + \"/Figures/Missing_data_in_datasets.png\")\n",
    "else:\n",
    "    os.mkdir(parent_folder + \"/Figures\")\n",
    "    plt.savefig(parent_folder + \"/Figures/Missing_data_in_datasets.png\")\n",
    "\n",
    "plt.tight_layout()\n",
    "plt.show()"
   ]
  },
  {
   "cell_type": "code",
   "execution_count": 8,
   "metadata": {
    "id": "6kwoifrGvl6J"
   },
   "outputs": [],
   "source": [
    "# Loop through each column and drop it if there are more than 30% null values,\n",
    "# or fill in the null values with the column mean if there are less than 50%\n",
    "null_percent = stations_df.isnull().sum() / len(stations_df) * 100\n",
    "for col in stations_df.columns:\n",
    "    if null_percent[col] > 30:\n",
    "        stations_df.drop(col, axis=1, inplace=True)\n",
    "    elif null_percent[col] > 0:\n",
    "        stations_df[col] = stations_df[col].fillna('0')\n",
    "\n",
    "\n",
    "# Loop through each column and drop it if there are more than 30% null values,\n",
    "# or fill in the null values with the column mean if there are less than 50%\n",
    "null_percent = weather_df.isnull().sum() / len(weather_df) * 100\n",
    "for col in weather_df.columns:\n",
    "    if null_percent[col] > 30:\n",
    "        weather_df.drop(col, axis=1, inplace=True)\n",
    "    elif null_percent[col] > 0:\n",
    "        weather_df[col] = weather_df[col].fillna('0')"
   ]
  },
  {
   "cell_type": "markdown",
   "metadata": {
    "id": "2WqxgJi4XiVo"
   },
   "source": [
    "### Impute missing data in trips_df\n",
    "\n",
    "Trips data is missing for April 2016, December 2016 and November 2022.    \n",
    "\n",
    " \n",
    "The missing values for April 2016 will be replaced by the data from the previous year, i.e April 2015.  \n",
    "The missing values for December 2016 will be replaced by the data from the previous year, i.e December 2015. \n",
    "The missing values for November 2022 will be filled in by the most frequent end_staton_id for 2019, 2020, 2021.  \n"
   ]
  },
  {
   "cell_type": "markdown",
   "metadata": {
    "id": "bK8YVlHWzRLC"
   },
   "source": [
    "### Fill in missing values for November 2022"
   ]
  },
  {
   "cell_type": "code",
   "execution_count": 9,
   "metadata": {
    "colab": {
     "base_uri": "https://localhost:8080/"
    },
    "id": "uczaRUmRXcGd",
    "outputId": "852a5f43-d499-4488-952b-44a911ef6ef8"
   },
   "outputs": [
    {
     "name": "stdout",
     "output_type": "stream",
     "text": [
      "The most frequent end_station_id in November 2021 is 3798\n",
      "The most frequent end_station_id in November 2020 is 3798\n",
      "The most frequent end_station_id in November 2019 is 3798\n"
     ]
    }
   ],
   "source": [
    "# Find the most frequent end_station_id in November 2021\n",
    "november2021 = trips_df[(trips_df['year']=='2021') & (trips_df['month']=='Nov')]\n",
    "pop_endstation_2021 = pd.DataFrame(november2021.groupby(\"end_station_id\").size().sort_values(ascending=False)).reset_index().rename(columns={0: \"frequency\"})\n",
    "print(f\"The most frequent end_station_id in November 2021 is {pop_endstation_2021.iloc[0,0]}\")\n",
    "\n",
    "# Find the most frequent end_station_id in November 2020\n",
    "november2020 = trips_df[(trips_df['year']=='2020') & (trips_df['month']=='Nov')]\n",
    "pop_endstation_2020 = pd.DataFrame(november2020.groupby(\"end_station_id\").size().sort_values(ascending=False)).reset_index().rename(columns={0: \"frequency\"})\n",
    "print(f\"The most frequent end_station_id in November 2020 is {pop_endstation_2020.iloc[0,0]}\")\n",
    "\n",
    "# Find the most frequent end_station_id in November 2019\n",
    "november2019 = trips_df[(trips_df['year']=='2019') & (trips_df['month']=='Nov')]\n",
    "pop_endstation_2019 = pd.DataFrame(november2019.groupby(\"end_station_id\").size().sort_values(ascending=False)).reset_index().rename(columns={0: \"frequency\"})\n",
    "print(f\"The most frequent end_station_id in November 2019 is {pop_endstation_2019.iloc[0,0]}\")\n",
    "\n",
    "# Get existing data for November 2022\n",
    "november2022_df = trips_df[(trips_df['year']=='2022') & (trips_df['month']=='Nov')]\n",
    "\n",
    "# Fill missing values in the end_station_id column for November 2022 and consequently change the end_station_name to the corresponding to the end_station_id\n",
    "november2022_df.fillna(3798, inplace=True)\n",
    "november2022_df.iloc[:, 7]=\"21st & Speedway @PCL\""
   ]
  },
  {
   "cell_type": "markdown",
   "metadata": {
    "id": "S6E6f06SzWf5"
   },
   "source": [
    "### Fill in missing values for December 2016"
   ]
  },
  {
   "cell_type": "code",
   "execution_count": 10,
   "metadata": {
    "id": "7ZZDJFmTYhp0"
   },
   "outputs": [],
   "source": [
    "# Get data for December 2015 to copy this data to December 2016\n",
    "december2015 = trips_df[(trips_df['year']=='2015') & (trips_df['month']=='Dec')]\n",
    "\n",
    "# Get synthetic values for December 2016\n",
    "dec2016_index=np.arange(0,10029)\n",
    "dec16_trip_ids = np.arange(30000000,30010029)\n",
    "dec16_subscriber_type = pd.Series(december2015['subscriber_type']).reset_index().drop(columns=\"index\")\n",
    "dec16_subscriber_type = dec16_subscriber_type['subscriber_type']\n",
    "dec16_bike_id = pd.Series(december2015['bike_id']).reset_index().drop(columns=\"index\")\n",
    "dec16_bike_id = dec16_bike_id['bike_id']\n",
    "dec16_start_station_id = pd.Series(december2015['start_station_id']).reset_index().drop(columns=\"index\")\n",
    "dec16_start_station_id = dec16_start_station_id['start_station_id']\n",
    "dec16_start_station_name = pd.Series(december2015['start_station_name']).reset_index().drop(columns=\"index\")\n",
    "dec16_start_station_name = dec16_start_station_name['start_station_name']\n",
    "dec16_end_station_id = pd.Series(december2015['end_station_id']).reset_index().drop(columns=\"index\")\n",
    "dec16_end_station_id = dec16_end_station_id['end_station_id']\n",
    "dec16_end_station_name = pd.Series(december2015['end_station_name']).reset_index().drop(columns=\"index\")\n",
    "dec16_end_station_name = dec16_end_station_name['end_station_name']\n",
    "dec16_duration_minutes = pd.Series(december2015['duration_minutes']).reset_index().drop(columns=\"index\")\n",
    "dec16_duration_minutes = dec16_duration_minutes['duration_minutes']\n",
    "dec16_time_serie = pd.Series(pd.date_range(start=\"2016-12-01\", end='2016-12-31', freq='4.28T', tz='UTC'))\n",
    "dec16_time_serie = dec16_time_serie.loc[:10028]\n",
    "\n",
    "# Create a dictionary with values for December 2016\n",
    "december2016 = {'trip_id': dec16_trip_ids, 'subscriber_type': dec16_subscriber_type, 'bike_id': dec16_bike_id, 'start_time': dec16_time_serie,\n",
    "               'start_station_id': dec16_start_station_id, 'start_station_name': dec16_start_station_name, 'end_station_id': dec16_end_station_id,\n",
    "               'end_station_name': dec16_end_station_name, 'duration_minutes': dec16_duration_minutes}\n",
    "\n",
    "# Create a DataFrame for December 2016                \n",
    "december2016_df = pd.DataFrame(data=december2016, index=dec2016_index)"
   ]
  },
  {
   "cell_type": "markdown",
   "metadata": {
    "id": "prxom2JZV0KL"
   },
   "source": [
    "### Fill in missing values for April 2016"
   ]
  },
  {
   "cell_type": "code",
   "execution_count": 11,
   "metadata": {
    "id": "lu6vkrmCV2EQ"
   },
   "outputs": [],
   "source": [
    "# Get data for April 2015 to copy this data to April 2016\n",
    "april2015 = trips_df[(trips_df['year']=='2015') & (trips_df['month']=='Apr')]\n",
    "\n",
    "# Get synthetic values for December 2016\n",
    "apr16_index=np.arange(0,15138)\n",
    "apr16_trip_ids = np.arange(30010029,30025167)\n",
    "apr16_subscriber_type = pd.Series(april2015['subscriber_type']).reset_index().drop(columns=\"index\")\n",
    "apr16_subscriber_type = apr16_subscriber_type['subscriber_type']\n",
    "apr16_bike_id = pd.Series(april2015['bike_id']).reset_index().drop(columns=\"index\")\n",
    "apr16_bike_id = apr16_bike_id['bike_id']\n",
    "apr16_start_station_id = pd.Series(april2015['start_station_id']).reset_index().drop(columns=\"index\")\n",
    "apr16_start_station_id = apr16_start_station_id['start_station_id']\n",
    "apr16_start_station_name = pd.Series(april2015['start_station_name']).reset_index().drop(columns=\"index\")\n",
    "apr16_start_station_name = apr16_start_station_name['start_station_name']\n",
    "apr16_end_station_id = pd.Series(april2015['end_station_id']).reset_index().drop(columns=\"index\")\n",
    "apr16_end_station_id = apr16_end_station_id['end_station_id']\n",
    "apr16_end_station_name = pd.Series(april2015['end_station_name']).reset_index().drop(columns=\"index\")\n",
    "apr16_end_station_name = apr16_end_station_name['end_station_name']\n",
    "apr16_duration_minutes = pd.Series(april2015['duration_minutes']).reset_index().drop(columns=\"index\")\n",
    "apr16_duration_minutes = apr16_duration_minutes['duration_minutes']\n",
    "apr16_time_serie = pd.Series(pd.date_range(start=\"2016-04-01\", end='2016-04-30', freq='2.7T', tz='UTC'))\n",
    "apr16_time_serie = apr16_time_serie.loc[:15138]\n",
    "\n",
    "# Create a dictionary with values for December 2016\n",
    "april2016 = {'trip_id': apr16_trip_ids, 'subscriber_type': apr16_subscriber_type, 'bike_id': apr16_bike_id, 'start_time': apr16_time_serie,\n",
    "               'start_station_id': apr16_start_station_id, 'start_station_name': apr16_start_station_name, 'end_station_id': apr16_end_station_id,\n",
    "               'end_station_name': apr16_end_station_name, 'duration_minutes': apr16_duration_minutes}\n",
    "\n",
    "# Create a DataFrame for December 2016                \n",
    "april2016_df = pd.DataFrame(data=april2016, index=apr16_index)"
   ]
  },
  {
   "cell_type": "code",
   "execution_count": 12,
   "metadata": {
    "id": "FjKlm061Y-OR"
   },
   "outputs": [],
   "source": [
    "# Add day_of_week column for April and December 2016\n",
    "december2016_df[\"day_of_week\"] = december2016_df[\"start_time\"].apply(lambda x: x.strftime('%A'))\n",
    "april2016_df[\"day_of_week\"] = april2016_df[\"start_time\"].apply(lambda x: x.strftime('%A'))\n",
    "\n",
    "# Add time column for December 2016\n",
    "december2016_df[\"time\"] = december2016_df[\"start_time\"].apply(lambda x: x.strftime('%H:%M:%S'))\n",
    "april2016_df[\"time\"] = april2016_df[\"start_time\"].apply(lambda x: x.strftime('%H:%M:%S'))\n",
    "\n",
    "# Add month column for December 2016\n",
    "december2016_df[\"month\"] = december2016_df[\"start_time\"].apply(lambda x: x.strftime('%b'))\n",
    "april2016_df[\"month\"] = april2016_df[\"start_time\"].apply(lambda x: x.strftime('%b'))\n",
    "\n",
    "# Add year column for December 2016\n",
    "december2016_df[\"year\"] = december2016_df[\"start_time\"].apply(lambda x: x.strftime('%Y'))\n",
    "april2016_df[\"year\"] = april2016_df[\"start_time\"].apply(lambda x: x.strftime('%Y'))\n"
   ]
  },
  {
   "cell_type": "markdown",
   "metadata": {
    "id": "TMnzQh9xzvqf"
   },
   "source": [
    "### Join DataFrames for December 2016 and November 2019 to trips_df"
   ]
  },
  {
   "cell_type": "code",
   "execution_count": 13,
   "metadata": {
    "id": "6bLWxSX5ZGJY"
   },
   "outputs": [],
   "source": [
    "# Concatenate november 2022 to trips_df\n",
    "trips_df = pd.concat([trips_df, november2022_df])\n",
    "\n",
    "# Concatenate december 2016 to trips_df\n",
    "trips_df = pd.concat([trips_df, december2016_df])\n",
    "\n",
    "# Concatenate april 2016 to trips_df\n",
    "trips_df = pd.concat([trips_df, april2016_df])"
   ]
  },
  {
   "cell_type": "code",
   "execution_count": 14,
   "metadata": {
    "id": "y4a7ooSKvl6K"
   },
   "outputs": [],
   "source": [
    "# Drop rows containing null values. \n",
    "trips_df.dropna(axis=0, inplace=True)\n"
   ]
  },
  {
   "cell_type": "markdown",
   "metadata": {
    "id": "L4HHktw9_dGB"
   },
   "source": [
    "### Remove duplicates"
   ]
  },
  {
   "cell_type": "code",
   "execution_count": 15,
   "metadata": {
    "id": "ZXCQtMhQ_cgj"
   },
   "outputs": [],
   "source": [
    "# Since the stations_df is small we can vusially see that there no duplicates.\n",
    "# However we cannot do the same for trips_df and weather_df, so we use pandas method drop_duplicates()\n",
    "\n",
    "# Remove duplicates in trips dataset\n",
    "trips_df.drop_duplicates(inplace=True)\n",
    "\n",
    "# Remove duplicates in weather dataset\n",
    "weather_df.drop_duplicates(inplace=True)"
   ]
  },
  {
   "cell_type": "markdown",
   "metadata": {
    "id": "PvpAc0lPv-K9"
   },
   "source": [
    "### Check validity of station_ids"
   ]
  },
  {
   "cell_type": "code",
   "execution_count": 16,
   "metadata": {
    "id": "fT_6ybSeiPnX"
   },
   "outputs": [],
   "source": [
    "# end_station_id contains mixed data types in the trips_df\n",
    "trips_df = trips_df[trips_df['end_station_id'] != \"Event\"]"
   ]
  },
  {
   "cell_type": "code",
   "execution_count": 17,
   "metadata": {
    "id": "GjcjqyMtvl6L"
   },
   "outputs": [],
   "source": [
    "trips_df['start_station_id'] = trips_df['start_station_id'].astype(int)\n",
    "trips_df['end_station_id'] = trips_df['end_station_id'].astype(int)"
   ]
  },
  {
   "cell_type": "code",
   "execution_count": 18,
   "metadata": {
    "colab": {
     "base_uri": "https://localhost:8080/"
    },
    "id": "rhYXBAoUwCeY",
    "outputId": "4124d89d-2f3e-40bf-c720-567328bc9073"
   },
   "outputs": [
    {
     "name": "stdout",
     "output_type": "stream",
     "text": [
      "Number of unique station_id in stations_df: 102\n",
      "Number of unique start_station_id in stations_df: 108\n",
      "Number of unique end_station_id in stations_df: 108\n"
     ]
    }
   ],
   "source": [
    "# Find number of distinct station_id in stations_df\n",
    "stations_id_list = stations_df['station_id'].to_list()\n",
    "print(f'Number of unique station_id in stations_df: {len(set(stations_id_list))}')\n",
    "\n",
    "# Find number of distinct start_station_id in trips_df\n",
    "start_stn_ids = trips_df['start_station_id'].to_list()\n",
    "print(f'Number of unique start_station_id in stations_df: {len(set(start_stn_ids))}')\n",
    "\n",
    "# Find number of distinct end_station_id in trips_df\n",
    "end_stn_ids = trips_df['end_station_id'].to_list()\n",
    "print(f'Number of unique end_station_id in stations_df: {len(set(end_stn_ids))}')\n"
   ]
  },
  {
   "cell_type": "code",
   "execution_count": 19,
   "metadata": {
    "id": "EP_wpHpuwEjF"
   },
   "outputs": [],
   "source": [
    "# We will filter out the station ids that do not exist in our stations_df \n",
    "\n",
    "trips_df = trips_df[trips_df['start_station_id'].isin(stations_id_list)]\n",
    "trips_df = trips_df[trips_df['end_station_id'].isin(stations_id_list)]"
   ]
  },
  {
   "cell_type": "markdown",
   "metadata": {
    "id": "RXetgZrBZemG"
   },
   "source": [
    "### Excluding Years 2013 and 2023\n",
    "\n",
    "Data for years 2013 and 2023 is incompelete and therefore should be excluded from this analysis.  \n",
    "\n",
    "The bike share program was only launched in Dec 2013, so analysis performed on this year does not yield meaningful results.  \n",
    "Similarly, as the bike share program is still ongoing in year 2023 analysis performed on this year will not be representative of the full year.  \n"
   ]
  },
  {
   "cell_type": "code",
   "execution_count": 20,
   "metadata": {
    "id": "qr9YML7CZhRc"
   },
   "outputs": [],
   "source": [
    "trips_df['year'] = trips_df['year'].astype(int)\n",
    "trips_df = trips_df[(trips_df['year']!=2013) & (trips_df['year']!= 2023)]"
   ]
  },
  {
   "cell_type": "markdown",
   "metadata": {
    "id": "OxgFY-UUw_ob"
   },
   "source": [
    "## Save cleaned data as new csv files"
   ]
  },
  {
   "cell_type": "code",
   "execution_count": 21,
   "metadata": {
    "id": "NprdUsMMhXAr"
   },
   "outputs": [],
   "source": [
    "# Save files on Windows\n",
    "# if os.path.exists(parent_folder + \"\\\\Data\"):\n",
    "#     stations_df.to_csv(parent_folder + \"\\\\Data\\\\cleaned_stations_df.csv\", index = False)\n",
    "#     trips_df.to_csv(parent_folder + \"\\\\Data\\\\cleaned_trips_df.csv\", index = False)\n",
    "#     weather_df.to_csv(parent_folder + \"\\\\Data\\\\cleaned_weather_df.csv\", index = False)\n",
    "# else:\n",
    "#     os.mkdir(parent_folder + \"\\\\Data\")\n",
    "#     stations_df.to_csv(parent_folder + \"\\\\Data\\\\cleaned_stations_df.csv\", index = False)\n",
    "#     trips_df.to_csv(parent_folder + \"\\\\Data\\\\cleaned_trips_df.csv\", index = False)\n",
    "#     weather_df.to_csv(parent_folder + \"\\\\Data\\\\cleaned_weather_df.csv\", index = False)\n",
    "\n",
    "# Save files on Mac/Linux\n",
    "if os.path.exists(parent_folder + \"/Data\"):\n",
    "    stations_df.to_csv(parent_folder + \"/Data/cleaned_stations_df.csv\", index = False)\n",
    "    trips_df.to_csv(parent_folder + \"/Data/cleaned_trips_df.csv\", index = False)\n",
    "    weather_df.to_csv(parent_folder + \"/Data/cleaned_weather_df.csv\", index = False)\n",
    "else:\n",
    "    os.mkdir(parent_folder + \"/Data\")\n",
    "    stations_df.to_csv(parent_folder + \"/Data/cleaned_stations_df.csv\", index = False)\n",
    "    trips_df.to_csv(parent_folder + \"/Data/cleaned_trips_df.csv\", index = False)\n",
    "    weather_df.to_csv(parent_folder + \"/Data/cleaned_weather_df.csv\", index = False)"
   ]
  }
 ],
 "metadata": {
  "colab": {
   "provenance": []
  },
  "kernelspec": {
   "display_name": "Python 3 (ipykernel)",
   "language": "python",
   "name": "python3"
  },
  "language_info": {
   "codemirror_mode": {
    "name": "ipython",
    "version": 3
   },
   "file_extension": ".py",
   "mimetype": "text/x-python",
   "name": "python",
   "nbconvert_exporter": "python",
   "pygments_lexer": "ipython3",
   "version": "3.10.11"
  }
 },
 "nbformat": 4,
 "nbformat_minor": 1
}
